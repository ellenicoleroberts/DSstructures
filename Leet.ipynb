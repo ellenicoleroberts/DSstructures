{
 "cells": [
  {
   "cell_type": "markdown",
   "id": "3410a3e8-e0a6-49ac-a67e-90e7a522dfcc",
   "metadata": {},
   "source": [
    "# 121. Best Time to Buy and Sell Stock"
   ]
  },
  {
   "cell_type": "code",
   "execution_count": null,
   "id": "a04d252e-dca4-48d0-8059-ac2c03c35977",
   "metadata": {},
   "outputs": [],
   "source": [
    "prices = [7,1,5,3,6,4]  #6, 2, 4, 1, 3 || -4, -2, -5, -3 || 2, -1, 1 || -3, -1 || 2\n",
    "\n",
    "minslist = []\n"
   ]
  },
  {
   "cell_type": "code",
   "execution_count": null,
   "id": "6b8becfd-8f24-43f8-9d4c-141524a0d060",
   "metadata": {},
   "outputs": [],
   "source": [
    "for i in range(0, len(prices)-1):  #stops 2 before \n",
    "        test = []\n",
    "        for j in range(i+1, len(prices)):  #stops 1 before length, meaning it stops at last index (because indices start at 0 so are 1 behind length)               \n",
    "            diff = prices[i]-prices[j]  #recall that j is 1 ahead of i\n",
    "            test.append(diff)  \n",
    "            print(test)\n",
    "\n",
    "            if j == len(prices)-1:  #meaning we are at the end, because recall indices are 1 short of actual length\n",
    "                minslist.append(min(test))\n",
    " \n"
   ]
  },
  {
   "cell_type": "code",
   "execution_count": null,
   "id": "cc477f8b-fec4-4d77-940a-5055e0204f73",
   "metadata": {},
   "outputs": [],
   "source": [
    "minslist"
   ]
  },
  {
   "cell_type": "code",
   "execution_count": null,
   "id": "3daac2ae-80ed-4d99-a261-9879165fc5fc",
   "metadata": {},
   "outputs": [],
   "source": [
    "for i in minslist:\n",
    "    print(i)\n",
    "    counter = 0\n",
    "    if i > 0:\n",
    "        minslist[counter] = 0\n",
    "    counter = counter + 1\n"
   ]
  },
  {
   "cell_type": "code",
   "execution_count": null,
   "id": "1011a619-afe1-48a7-bf3e-98ea67b1fa57",
   "metadata": {},
   "outputs": [],
   "source": [
    "minslist"
   ]
  },
  {
   "cell_type": "code",
   "execution_count": null,
   "id": "68ce0399-fe9d-42aa-9ac4-38bf0824e8b6",
   "metadata": {},
   "outputs": [],
   "source": [
    "\n",
    "\n",
    "        ans = min(minslist) * -1\n",
    "        print(f\"The answer is: {ans}\")"
   ]
  },
  {
   "cell_type": "markdown",
   "id": "9b49cb8a-467c-4dd1-b3e1-32a66d8de7df",
   "metadata": {},
   "source": [
    "# 566. Reshape the Matrix"
   ]
  },
  {
   "cell_type": "code",
   "execution_count": null,
   "id": "1fa03766-a68a-4bec-a6db-b5855be003f6",
   "metadata": {},
   "outputs": [],
   "source": [
    "mat = [[1,2],[3,4]]\n",
    "r = 1\n",
    "c = 4"
   ]
  },
  {
   "cell_type": "code",
   "execution_count": null,
   "id": "35629755-4ac1-4c4c-b5c8-337a85cd5ff1",
   "metadata": {},
   "outputs": [],
   "source": [
    "m = len(mat)\n",
    "n = len(mat[0])"
   ]
  },
  {
   "cell_type": "code",
   "execution_count": null,
   "id": "41aeda97-16af-4ade-b151-b31a85522ead",
   "metadata": {},
   "outputs": [],
   "source": [
    "print(m)\n",
    "n"
   ]
  },
  {
   "cell_type": "code",
   "execution_count": null,
   "id": "56cc6bd3-3940-42fd-8d87-dd8373763542",
   "metadata": {},
   "outputs": [],
   "source": [
    "ans = [[0] * c for _ in range(r)]"
   ]
  },
  {
   "cell_type": "code",
   "execution_count": null,
   "id": "88b6a167-929d-4c3f-bd22-10e04761ac4d",
   "metadata": {},
   "outputs": [],
   "source": [
    "for i in range(m * n):\n",
    "    ans[i // c][i % c] = mat[i // n][i % n]\n",
    "        \n",
    "    "
   ]
  },
  {
   "cell_type": "code",
   "execution_count": null,
   "id": "5d84b133-ca70-4239-8142-085d40f7e173",
   "metadata": {},
   "outputs": [],
   "source": [
    "if r * c != m * n: \n",
    "    print(f\"The matrix {mat} is invalid.\")  # Invalid size -> return original matrix"
   ]
  },
  {
   "cell_type": "code",
   "execution_count": null,
   "id": "e5e5fecf-8da2-41e5-806a-cebba5f98237",
   "metadata": {},
   "outputs": [],
   "source": [
    "remat = mat.reshape((r, c))"
   ]
  },
  {
   "cell_type": "code",
   "execution_count": null,
   "id": "53361c33-440d-4836-9c27-872398d74b2e",
   "metadata": {},
   "outputs": [],
   "source": [
    "remat"
   ]
  },
  {
   "cell_type": "code",
   "execution_count": null,
   "id": "fa566b5a-fe5a-4e89-8192-172d7661244b",
   "metadata": {},
   "outputs": [],
   "source": [
    "X_test = X_test.reshape((X_test.shape[0], X_test.shape[2])) "
   ]
  },
  {
   "cell_type": "markdown",
   "id": "b37890cf-73dd-430f-99ff-1ec1c219a731",
   "metadata": {},
   "source": [
    "# 567. Permutation in String"
   ]
  },
  {
   "cell_type": "code",
   "execution_count": null,
   "id": "9a1f505d-cc13-4a4b-96b8-15f6795ec68e",
   "metadata": {},
   "outputs": [],
   "source": [
    "s1 = \"ab\"\n",
    "s2 = \"eidbaooo\""
   ]
  },
  {
   "cell_type": "code",
   "execution_count": null,
   "id": "9afe1468-681b-4c6f-b899-289660c32295",
   "metadata": {},
   "outputs": [],
   "source": [
    "list = []\n",
    "\n",
    "for i in s1:\n",
    "    list.append(i)\n",
    "\n",
    "print(list)"
   ]
  },
  {
   "cell_type": "code",
   "execution_count": null,
   "id": "1a0526ec-dc79-4d4e-a327-6803af961e88",
   "metadata": {},
   "outputs": [],
   "source": [
    "list2 = []\n",
    "\n",
    "for i in s2:\n",
    "    list2.append(i)\n",
    "    \n",
    "print(list2)"
   ]
  },
  {
   "cell_type": "code",
   "execution_count": null,
   "id": "68d3c2bc-88bd-481a-be8e-fd4b7dc5bfe1",
   "metadata": {},
   "outputs": [],
   "source": [
    "bool = False\n",
    "counter = 0\n",
    "\n",
    "for i in list:\n",
    "    for j in list2:\n",
    "        if i == j:\n",
    "            counter = counter + 1\n",
    "print(counter)"
   ]
  },
  {
   "cell_type": "code",
   "execution_count": null,
   "id": "8966cebf-5208-4bac-8c79-9a8d3072669f",
   "metadata": {},
   "outputs": [],
   "source": [
    "length = len(list)\n",
    "\n",
    "print(length)"
   ]
  },
  {
   "cell_type": "code",
   "execution_count": null,
   "id": "3ea60f17-3825-4ba6-b000-2cf4fcd14e2c",
   "metadata": {},
   "outputs": [],
   "source": [
    "if length == counter:\n",
    "    print(True)"
   ]
  },
  {
   "cell_type": "code",
   "execution_count": null,
   "id": "e5771e69-202a-434a-a1c3-ad8b467b732b",
   "metadata": {},
   "outputs": [],
   "source": []
  },
  {
   "cell_type": "code",
   "execution_count": null,
   "id": "5030e148-f4e3-4894-95c1-86fba7468072",
   "metadata": {},
   "outputs": [],
   "source": [
    "s1 = \"ab\"\n",
    "s2 = \"eidbaooo\""
   ]
  },
  {
   "cell_type": "code",
   "execution_count": null,
   "id": "c3450c7e-8395-49f5-8116-13725a1b31d2",
   "metadata": {},
   "outputs": [],
   "source": [
    "from collections import Counter\n",
    "\n",
    "length1 = len(s1)\n",
    "length2 = len(s2)\n",
    "\n",
    "counter1 = Counter(s1)  #puts s1 into hash map (dictionary)\n",
    "counter2 = Counter(s2[:length1-1]) #puts s2 into a hashmap, which says \"from beginning, stopping right BEFORE 1 (so 0) because 2-1=1\"\n",
    "\n",
    "j = 0\n",
    "\n",
    "print(length1, length2, counter1, counter1[s1[0]], counter2)"
   ]
  },
  {
   "cell_type": "code",
   "execution_count": null,
   "id": "5ff0a1ce-344d-47c4-aaef-c6095e2c9850",
   "metadata": {},
   "outputs": [],
   "source": [
    "for i in range(length1-1,length2): #starting at 2-1=1 and ending right before 8 at 7)\n",
    "    \n",
    "    print(counter2[s2[i]])  #recall that [s2[i]] is a letter, this letter is a KEY to a VALUE (what we want) in Counter\n",
    "    #and counter2[s2[i]] ='s NADA because our range starts at length1-1 = 1 \n",
    "    #and counter2 only has a 0th element\n",
    "    \n",
    "    counter2[s2[i]] = counter2[s2[i]] + 1\n",
    "    print(counter2[s2[i]])\n",
    "    \n",
    "    if counter2 == counter1:\n",
    "        print(\"True\") \n",
    "        \n",
    "    counter2[s2[j]] = counter2[s2[j]] - 1\n",
    "    \n",
    "    if counter2[s2[j]] == 0:\n",
    "        del counter2[s2[j]]\n",
    "        \n",
    "    j = j + 1\n",
    "    \n"
   ]
  },
  {
   "cell_type": "markdown",
   "id": "16e85186-6dc2-40b8-a5ea-e53ba7a48d1d",
   "metadata": {},
   "source": [
    "# 118. Pascal's Triangle"
   ]
  },
  {
   "cell_type": "code",
   "execution_count": null,
   "id": "3efe7f3f-901c-4cc9-b276-a5a951f19d23",
   "metadata": {},
   "outputs": [],
   "source": [
    "numRows = 6\n",
    "biglist = [[1]]  #appends 1st row of triangle\n",
    "hashmap = {}\n",
    "counter = 0"
   ]
  },
  {
   "cell_type": "code",
   "execution_count": null,
   "id": "cb7f1e5a-ac41-4217-aff5-c9fcd46ca80a",
   "metadata": {},
   "outputs": [],
   "source": [
    "for i in range(1, numRows):\n",
    "    \n",
    "    for j in range(0, i):\n",
    "     \n",
    "        k = 1\n",
    "        boolean = True\n",
    "        \n",
    "        if j == 0:\n",
    "            rowlist = []\n",
    "            rowlist.append(1) #starts with j=0, appends 1 \n",
    "            \n",
    "        if j == i-1 and i != 1:\n",
    "            rowlist.append(1)\n",
    "            boolean = False\n",
    "                \n",
    "        if i > 1 and boolean and j > 0:\n",
    "            rowlist.append(biglist[i-1][k-1] + biglist[i-1][k])  #rowlist.append(biglist[i-1][j-1] + biglist[i-1][j])\n",
    "                \n",
    "        k = k+1\n",
    "        \n",
    "    biglist.append(rowlist)\n",
    "                \n",
    "    print(biglist)\n",
    "        "
   ]
  },
  {
   "cell_type": "markdown",
   "id": "be91d556-a5bd-496a-a61c-6c9072ef47e8",
   "metadata": {},
   "source": [
    "# 387. First Unique Character in a String\n",
    "Given a string s, find the first non-repeating character in it and return its index. If it does not exist, return -1."
   ]
  },
  {
   "cell_type": "code",
   "execution_count": null,
   "id": "e689dde4-5637-474e-836d-f687ab235471",
   "metadata": {},
   "outputs": [],
   "source": [
    "s = \"loveleetcode\""
   ]
  },
  {
   "cell_type": "code",
   "execution_count": null,
   "id": "877a2615-bcb6-454b-9b2a-4a9e356e033f",
   "metadata": {},
   "outputs": [],
   "source": [
    "\n",
    "    def firstUniqChar(s):\n",
    "\n",
    "        from collections import Counter\n",
    "\n",
    "        cnt = Counter(s)\n",
    "        hashmap = {}\n",
    "\n",
    "        for i in cnt:\n",
    "            hashmap[i] = cnt[i]\n",
    "\n",
    "        for i in range(len(hashmap)):\n",
    "            if hashmap[list(hashmap)[i]] == 1:   #'list' gives you the INDEX value and we plug that into hashmap to get the value\n",
    "                return(i)\n",
    "            \n",
    "    firstUniqChar(s)"
   ]
  },
  {
   "cell_type": "markdown",
   "id": "8e784669-23e7-448e-a735-d8f2c5571e9b",
   "metadata": {},
   "source": [
    "# 383. Ransom Note\n",
    "Given two strings ransomNote and magazine, return true if ransomNote can be constructed by using the letters from magazine and false otherwise.\n",
    "\n",
    "Each letter in magazine can only be used once in ransomNote."
   ]
  },
  {
   "cell_type": "code",
   "execution_count": 31,
   "id": "ca0f0ef2-b01a-448f-bf95-9ad809484d6f",
   "metadata": {},
   "outputs": [],
   "source": [
    "ransomNote = \"aa\"\n",
    "magazine = \"aab\""
   ]
  },
  {
   "cell_type": "code",
   "execution_count": 32,
   "id": "d34781aa-2342-45bc-8f73-6f084318626e",
   "metadata": {},
   "outputs": [],
   "source": [
    "from collections import Counter\n",
    "cnt1 = Counter(ransomNote)\n",
    "cnt2 = Counter(magazine)"
   ]
  },
  {
   "cell_type": "code",
   "execution_count": 33,
   "id": "0bb91b75-356b-40f3-9b59-2cc3a07b71e9",
   "metadata": {},
   "outputs": [
    {
     "data": {
      "text/plain": [
       "Counter({'a': 2})"
      ]
     },
     "execution_count": 33,
     "metadata": {},
     "output_type": "execute_result"
    }
   ],
   "source": [
    "cnt1"
   ]
  },
  {
   "cell_type": "code",
   "execution_count": 34,
   "id": "7c66f512-fa31-43dd-bd00-031e8ba77201",
   "metadata": {},
   "outputs": [
    {
     "data": {
      "text/plain": [
       "Counter({'a': 2, 'b': 1})"
      ]
     },
     "execution_count": 34,
     "metadata": {},
     "output_type": "execute_result"
    }
   ],
   "source": [
    "cnt2"
   ]
  },
  {
   "cell_type": "code",
   "execution_count": 35,
   "id": "d716882d-30f7-4c21-9c54-8d5ed2ae16c5",
   "metadata": {},
   "outputs": [
    {
     "name": "stdout",
     "output_type": "stream",
     "text": [
      "True\n"
     ]
    }
   ],
   "source": [
    "dict1 = {}\n",
    "dict2 = {}\n",
    "listA = []\n",
    "\n",
    "for i in cnt1:\n",
    "    dict1[i] = cnt1[i]\n",
    "\n",
    "for i in cnt2:\n",
    "    dict2[i] = cnt2[i]\n",
    "\n",
    "for i in dict1:\n",
    "    if i in dict2:\n",
    "        if dict1[i] == dict2[i]:\n",
    "            listA.append(\"pass\")\n",
    "        else:\n",
    "            listA.append(\"fail\")\n",
    "    else:\n",
    "        listA.append(\"fail\")\n",
    "        \n",
    "if \"fail\" in listA:\n",
    "    print(\"False\")\n",
    "    \n",
    "else:\n",
    "    print(\"True\")"
   ]
  },
  {
   "cell_type": "markdown",
   "id": "6f38ea3f-d6a7-4df9-b054-fb2497f6f1c4",
   "metadata": {},
   "source": [
    "# 242. Valid Anagram\n",
    "Given two strings s and t, return true if t is an anagram of s, and false otherwise.\n",
    "\n",
    "An Anagram is a word or phrase formed by rearranging the letters of a different word or phrase, typically using all the original letters exactly once."
   ]
  },
  {
   "cell_type": "code",
   "execution_count": 36,
   "id": "f6f65cfc-df3a-45ec-a21c-326dc83bc56e",
   "metadata": {},
   "outputs": [],
   "source": [
    "s = \"anagram\"\n",
    "t = \"nagaram\""
   ]
  },
  {
   "cell_type": "code",
   "execution_count": 37,
   "id": "f053c02d-a53a-4a69-93b9-1ff16a3fc575",
   "metadata": {},
   "outputs": [],
   "source": [
    "from collections import Counter\n",
    "cnt1 = Counter(s)\n",
    "cnt2 = Counter(t)"
   ]
  },
  {
   "cell_type": "code",
   "execution_count": 38,
   "id": "d7acd8cc-9188-4be7-b888-32a2dda0ba58",
   "metadata": {},
   "outputs": [],
   "source": [
    "dict1 = {}\n",
    "dict2 = {}\n",
    "listA = []\n",
    "\n",
    "for i in cnt1:\n",
    "    dict1[i] = cnt1[i]\n",
    "\n",
    "for i in cnt2:\n",
    "    dict2[i] = cnt2[i]\n",
    "\n",
    "for i in dict1:\n",
    "    if i in dict2:\n",
    "        if dict1[i] == dict2[i]:\n",
    "            listA.append(\"pass\")\n",
    "        else:\n",
    "            listA.append(\"fail\")\n",
    "    else:\n",
    "        listA.append(\"fail\")\n",
    "        \n"
   ]
  },
  {
   "cell_type": "code",
   "execution_count": 39,
   "id": "ea6aff24-811e-42cc-8872-41a72aa17e39",
   "metadata": {},
   "outputs": [
    {
     "name": "stdout",
     "output_type": "stream",
     "text": [
      "['pass', 'pass', 'pass', 'pass', 'pass']\n"
     ]
    }
   ],
   "source": [
    "print(listA)"
   ]
  },
  {
   "cell_type": "code",
   "execution_count": null,
   "id": "f1e505ab-75d4-4dd7-a7cc-0e6cdecb58f5",
   "metadata": {},
   "outputs": [],
   "source": [
    "if \"fail\" in listA:\n",
    "    print(\"False\")\n",
    "\n",
    "else\n",
    "    print(\"True\")"
   ]
  }
 ],
 "metadata": {
  "kernelspec": {
   "display_name": "Python 3 (ipykernel)",
   "language": "python",
   "name": "python3"
  },
  "language_info": {
   "codemirror_mode": {
    "name": "ipython",
    "version": 3
   },
   "file_extension": ".py",
   "mimetype": "text/x-python",
   "name": "python",
   "nbconvert_exporter": "python",
   "pygments_lexer": "ipython3",
   "version": "3.7.13"
  }
 },
 "nbformat": 4,
 "nbformat_minor": 5
}
